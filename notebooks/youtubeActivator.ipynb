{
 "cells": [
  {
   "cell_type": "code",
   "execution_count": 23,
   "metadata": {
    "collapsed": true
   },
   "outputs": [
    {
     "name": "stderr",
     "output_type": "stream",
     "text": [
      "C:\\Users\\mike0\\AppData\\Local\\Temp\\ipykernel_25340\\3126071274.py:22: DeprecationWarning: executable_path has been deprecated, please pass in a Service object\n",
      "  driver = webdriver.Chrome(executable_path=chromedriver_path, chrome_options=options)\n",
      "C:\\Users\\mike0\\AppData\\Local\\Temp\\ipykernel_25340\\3126071274.py:22: DeprecationWarning: use options instead of chrome_options\n",
      "  driver = webdriver.Chrome(executable_path=chromedriver_path, chrome_options=options)\n"
     ]
    }
   ],
   "source": [
    "from time import sleep\n",
    "\n",
    "import pandas as pd\n",
    "from selenium import webdriver\n",
    "from selenium.webdriver.chrome.options import Options\n",
    "from selenium.webdriver.common.by import By\n",
    "from selenium.webdriver.support import expected_conditions as EC\n",
    "from selenium.webdriver.support.ui import WebDriverWait\n",
    "\n",
    "options = webdriver.ChromeOptions()\n",
    "options.add_argument(\"headless\")\n",
    "options.add_argument(\"lang=ko_KR\")\n",
    "chromedriver_path = \"..\\src\\driver_tools\\chromedriver.exe\"\n",
    "\n",
    "from selenium.webdriver.chrome.options import Options\n",
    "\n",
    "options = Options()\n",
    "ext_file1 = \"../src/driver_tools/bihmplhobchoageeokmgbdihknkjbknd.crx\"  # vpn 확장자\n",
    "ext_file2 = \"../src/driver_tools/cjpalhdlnbpafiamejdnhcphjbkeiagm.crx\"  # 광고 방지 확장자\n",
    "options.add_extension(ext_file1)\n",
    "options.add_extension(ext_file2)\n",
    "driver = webdriver.Chrome(executable_path=chromedriver_path, chrome_options=options)\n",
    "# url = \"chrome-extension://bihmplhobchoageeokmgbdihknkjbknd/panel/index.html\"\n",
    "# driver.get(url)\n",
    "#\n",
    "# wait = WebDriverWait(driver, 10)\n",
    "# element = wait.until(EC.element_to_be_clickable((By.CLASS_NAME, \"staticBackground\")))\n",
    "#\n",
    "# vpn_btn = driver.find_element(By.XPATH, '//div[@class=\"staticBackground\"]')\n",
    "# vpn_btn.click()\n",
    "# wait = WebDriverWait(driver, 10)\n",
    "# element = wait.until(EC.element_to_be_clickable((By.CLASS_NAME, \"postConnection\")))"
   ]
  },
  {
   "cell_type": "code",
   "execution_count": 24,
   "outputs": [],
   "source": [
    "url = 'https://www.youtube.com/watch?v=JlbEULIZ_Ik'\n",
    "driver.get(url)\n",
    "w = driver.find_elements(By.XPATH,\"//tp-yt-paper-button[@class='style-scope ytd-button-renderer style-primary size-default']\")\n",
    "if w :\n",
    "    w[1].click()\n"
   ],
   "metadata": {
    "collapsed": false
   }
  },
  {
   "cell_type": "code",
   "execution_count": 14,
   "outputs": [],
   "source": [
    "w = driver.find_elements(By.XPATH,\"//tp-yt-paper-button[@class='style-scope ytd-button-renderer style-primary size-default']\")\n",
    "if w :\n",
    "    w[1].click()\n"
   ],
   "metadata": {
    "collapsed": false
   }
  },
  {
   "cell_type": "code",
   "execution_count": 21,
   "outputs": [],
   "source": [
    "from selenium.webdriver.common.keys import Keys\n",
    "\n",
    "# player_btn = driver.find_element(by=By.XPATH, value='//button[@class=\"ytp-large-play-button ytp-button\"]')\n",
    "# player_btn.send_keys(Keys.SPACE)\n",
    "fullScreen_btn = driver.find_elements(By.XPATH, '//button[@class=\"ytp-fullscreen-button ytp-button\"]')\n",
    "fullScreen_btn[0].click()"
   ],
   "metadata": {
    "collapsed": false
   }
  },
  {
   "cell_type": "code",
   "execution_count": 2,
   "outputs": [],
   "source": [
    "import datetime"
   ],
   "metadata": {
    "collapsed": false
   }
  },
  {
   "cell_type": "code",
   "execution_count": 17,
   "outputs": [],
   "source": [
    "def time2str(seconds):\n",
    "    seconds = int(seconds)\n",
    "    str_time = str(datetime.timedelta(seconds=seconds))\n",
    "    split_time = str_time.split(':')\n",
    "    print(split_time)\n",
    "    ans = []\n",
    "    for i, st in enumerate(split_time):\n",
    "        print(i, len(ans))\n",
    "        if i == 0 and st =='0':\n",
    "            pass\n",
    "        elif i > 0 and len(ans) >= 1:\n",
    "            ans.append(st)\n",
    "        elif i==0 and st!='0':\n",
    "            ans.append(st)\n",
    "        else:\n",
    "            ans.append(str(int(split_time[1])))\n",
    "    output = ':'.join(ans)\n",
    "    return output"
   ],
   "metadata": {
    "collapsed": false
   }
  },
  {
   "cell_type": "code",
   "execution_count": 20,
   "outputs": [
    {
     "name": "stdout",
     "output_type": "stream",
     "text": [
      "['1', '00', '00']\n",
      "0 0\n",
      "1 1\n",
      "2 2\n"
     ]
    },
    {
     "data": {
      "text/plain": "'1:00:00'"
     },
     "execution_count": 20,
     "metadata": {},
     "output_type": "execute_result"
    }
   ],
   "source": [
    "time2str('3600')"
   ],
   "metadata": {
    "collapsed": false
   }
  },
  {
   "cell_type": "code",
   "execution_count": null,
   "outputs": [],
   "source": [],
   "metadata": {
    "collapsed": false
   }
  }
 ],
 "metadata": {
  "kernelspec": {
   "display_name": "Python 3",
   "language": "python",
   "name": "python3"
  },
  "language_info": {
   "codemirror_mode": {
    "name": "ipython",
    "version": 2
   },
   "file_extension": ".py",
   "mimetype": "text/x-python",
   "name": "python",
   "nbconvert_exporter": "python",
   "pygments_lexer": "ipython2",
   "version": "2.7.6"
  }
 },
 "nbformat": 4,
 "nbformat_minor": 0
}
